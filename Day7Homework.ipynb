{
 "cells": [
  {
   "cell_type": "code",
   "execution_count": 1,
   "metadata": {},
   "outputs": [],
   "source": [
    "import pandas as pd\n",
    "import numpy as np\n",
    "import os\n",
    "from datetime import datetime\n",
    "from pandas import ExcelWriter\n",
    "from pandas import ExcelFile"
   ]
  },
  {
   "cell_type": "code",
   "execution_count": 12,
   "metadata": {},
   "outputs": [],
   "source": [
    "\n",
    "def prntMssngVlus(df):\n",
    "    for i in df.columns:\n",
    "         print (df[df[i].isnull()])\n",
    "    return None\n",
    "\n",
    "def unqVlusClmns(df):\n",
    "    for i in df.columns:\n",
    "        x=len(df[i].value_counts())\n",
    "        a.append(x)\n",
    "    b=list(df.columns.values)\n",
    "    for i in range(len(a)):\n",
    "        c.append([b[i],a[i]])\n",
    "    return c"
   ]
  },
  {
   "cell_type": "code",
   "execution_count": 2,
   "metadata": {},
   "outputs": [],
   "source": [
    "path='https://raw.githubusercontent.com/vikrambj2019/basic/master/Data/'\n",
    "filename_read=os.path.join(path,\"TestdataTableau_v1.xlsx\")\n",
    "df=pd.read_excel(filename_read,sheet_name='rawdata')"
   ]
  },
  {
   "cell_type": "code",
   "execution_count": 3,
   "metadata": {},
   "outputs": [
    {
     "data": {
      "text/html": [
       "<div>\n",
       "<style scoped>\n",
       "    .dataframe tbody tr th:only-of-type {\n",
       "        vertical-align: middle;\n",
       "    }\n",
       "\n",
       "    .dataframe tbody tr th {\n",
       "        vertical-align: top;\n",
       "    }\n",
       "\n",
       "    .dataframe thead th {\n",
       "        text-align: right;\n",
       "    }\n",
       "</style>\n",
       "<table border=\"1\" class=\"dataframe\">\n",
       "  <thead>\n",
       "    <tr style=\"text-align: right;\">\n",
       "      <th></th>\n",
       "      <th>Month</th>\n",
       "      <th>Custumer Name</th>\n",
       "      <th>Customer Group</th>\n",
       "      <th>Product</th>\n",
       "      <th>City</th>\n",
       "      <th>Sales_amt</th>\n",
       "      <th>Standard_Cost</th>\n",
       "      <th>Metal_Cost</th>\n",
       "      <th>Taxes</th>\n",
       "      <th>FreightUnrecovered</th>\n",
       "      <th>Metal_weight_CU</th>\n",
       "    </tr>\n",
       "  </thead>\n",
       "  <tbody>\n",
       "    <tr>\n",
       "      <th>0</th>\n",
       "      <td>2/1/2017</td>\n",
       "      <td>* SUMMIT ELECTRIC SUPPLY</td>\n",
       "      <td>Medium</td>\n",
       "      <td>CSt</td>\n",
       "      <td>Sacramento</td>\n",
       "      <td>199.44</td>\n",
       "      <td>93.0974</td>\n",
       "      <td>68.5374</td>\n",
       "      <td>9.234072</td>\n",
       "      <td>4.4096</td>\n",
       "      <td>22.0704</td>\n",
       "    </tr>\n",
       "    <tr>\n",
       "      <th>1</th>\n",
       "      <td>2/1/2018</td>\n",
       "      <td>* SPRINGFIELD ELECTRIC SUPPLY</td>\n",
       "      <td>Large</td>\n",
       "      <td>CST</td>\n",
       "      <td>El Monte</td>\n",
       "      <td>767.00</td>\n",
       "      <td>283.5617</td>\n",
       "      <td>151.2411</td>\n",
       "      <td>25.387700</td>\n",
       "      <td>10.4405</td>\n",
       "      <td>48.7026</td>\n",
       "    </tr>\n",
       "    <tr>\n",
       "      <th>2</th>\n",
       "      <td>6/1/2017</td>\n",
       "      <td>* NU-LITE ELECTRICAL WHLSRS</td>\n",
       "      <td>little</td>\n",
       "      <td>CST</td>\n",
       "      <td>Salt Lake City</td>\n",
       "      <td>122.25</td>\n",
       "      <td>85.0163</td>\n",
       "      <td>49.3526</td>\n",
       "      <td>4.132050</td>\n",
       "      <td>6.8984</td>\n",
       "      <td>15.8925</td>\n",
       "    </tr>\n",
       "    <tr>\n",
       "      <th>3</th>\n",
       "      <td>6/1/2017</td>\n",
       "      <td>* MICK ELECTRIC COMPANY</td>\n",
       "      <td>little</td>\n",
       "      <td>CST</td>\n",
       "      <td>Eugene</td>\n",
       "      <td>569.56</td>\n",
       "      <td>270.6263</td>\n",
       "      <td>163.6132</td>\n",
       "      <td>20.618072</td>\n",
       "      <td>7.1545</td>\n",
       "      <td>52.6867</td>\n",
       "    </tr>\n",
       "    <tr>\n",
       "      <th>4</th>\n",
       "      <td>4/1/2017</td>\n",
       "      <td>* FRANKLIN ELECTRIC COMPANY</td>\n",
       "      <td>Medium</td>\n",
       "      <td>CST</td>\n",
       "      <td>San Diego</td>\n",
       "      <td>3217.20</td>\n",
       "      <td>1629.5767</td>\n",
       "      <td>1092.8027</td>\n",
       "      <td>147.991200</td>\n",
       "      <td>-31.4172</td>\n",
       "      <td>351.9040</td>\n",
       "    </tr>\n",
       "  </tbody>\n",
       "</table>\n",
       "</div>"
      ],
      "text/plain": [
       "      Month                  Custumer Name Customer Group Product  \\\n",
       "0  2/1/2017       * SUMMIT ELECTRIC SUPPLY         Medium     CSt   \n",
       "1  2/1/2018  * SPRINGFIELD ELECTRIC SUPPLY          Large     CST   \n",
       "2  6/1/2017    * NU-LITE ELECTRICAL WHLSRS         little     CST   \n",
       "3  6/1/2017        * MICK ELECTRIC COMPANY         little     CST   \n",
       "4  4/1/2017    * FRANKLIN ELECTRIC COMPANY         Medium     CST   \n",
       "\n",
       "              City  Sales_amt  Standard_Cost  Metal_Cost       Taxes  \\\n",
       "0       Sacramento     199.44        93.0974     68.5374    9.234072   \n",
       "1         El Monte     767.00       283.5617    151.2411   25.387700   \n",
       "2   Salt Lake City     122.25        85.0163     49.3526    4.132050   \n",
       "3           Eugene     569.56       270.6263    163.6132   20.618072   \n",
       "4        San Diego    3217.20      1629.5767   1092.8027  147.991200   \n",
       "\n",
       "   FreightUnrecovered  Metal_weight_CU  \n",
       "0              4.4096          22.0704  \n",
       "1             10.4405          48.7026  \n",
       "2              6.8984          15.8925  \n",
       "3              7.1545          52.6867  \n",
       "4            -31.4172         351.9040  "
      ]
     },
     "execution_count": 3,
     "metadata": {},
     "output_type": "execute_result"
    }
   ],
   "source": [
    "df.head()"
   ]
  },
  {
   "cell_type": "code",
   "execution_count": 6,
   "metadata": {},
   "outputs": [],
   "source": [
    "df['Month']=pd.to_datetime(df['Month'])"
   ]
  },
  {
   "cell_type": "code",
   "execution_count": 7,
   "metadata": {},
   "outputs": [
    {
     "data": {
      "text/html": [
       "<div>\n",
       "<style scoped>\n",
       "    .dataframe tbody tr th:only-of-type {\n",
       "        vertical-align: middle;\n",
       "    }\n",
       "\n",
       "    .dataframe tbody tr th {\n",
       "        vertical-align: top;\n",
       "    }\n",
       "\n",
       "    .dataframe thead th {\n",
       "        text-align: right;\n",
       "    }\n",
       "</style>\n",
       "<table border=\"1\" class=\"dataframe\">\n",
       "  <thead>\n",
       "    <tr style=\"text-align: right;\">\n",
       "      <th></th>\n",
       "      <th>Month</th>\n",
       "      <th>Custumer Name</th>\n",
       "      <th>Customer Group</th>\n",
       "      <th>Product</th>\n",
       "      <th>City</th>\n",
       "      <th>Sales_amt</th>\n",
       "      <th>Standard_Cost</th>\n",
       "      <th>Metal_Cost</th>\n",
       "      <th>Taxes</th>\n",
       "      <th>FreightUnrecovered</th>\n",
       "      <th>Metal_weight_CU</th>\n",
       "    </tr>\n",
       "  </thead>\n",
       "  <tbody>\n",
       "    <tr>\n",
       "      <th>0</th>\n",
       "      <td>2017-02-01</td>\n",
       "      <td>* SUMMIT ELECTRIC SUPPLY</td>\n",
       "      <td>Medium</td>\n",
       "      <td>CSt</td>\n",
       "      <td>Sacramento</td>\n",
       "      <td>199.44</td>\n",
       "      <td>93.0974</td>\n",
       "      <td>68.5374</td>\n",
       "      <td>9.234072</td>\n",
       "      <td>4.4096</td>\n",
       "      <td>22.0704</td>\n",
       "    </tr>\n",
       "    <tr>\n",
       "      <th>1</th>\n",
       "      <td>2018-02-01</td>\n",
       "      <td>* SPRINGFIELD ELECTRIC SUPPLY</td>\n",
       "      <td>Large</td>\n",
       "      <td>CST</td>\n",
       "      <td>El Monte</td>\n",
       "      <td>767.00</td>\n",
       "      <td>283.5617</td>\n",
       "      <td>151.2411</td>\n",
       "      <td>25.387700</td>\n",
       "      <td>10.4405</td>\n",
       "      <td>48.7026</td>\n",
       "    </tr>\n",
       "    <tr>\n",
       "      <th>2</th>\n",
       "      <td>2017-06-01</td>\n",
       "      <td>* NU-LITE ELECTRICAL WHLSRS</td>\n",
       "      <td>little</td>\n",
       "      <td>CST</td>\n",
       "      <td>Salt Lake City</td>\n",
       "      <td>122.25</td>\n",
       "      <td>85.0163</td>\n",
       "      <td>49.3526</td>\n",
       "      <td>4.132050</td>\n",
       "      <td>6.8984</td>\n",
       "      <td>15.8925</td>\n",
       "    </tr>\n",
       "    <tr>\n",
       "      <th>3</th>\n",
       "      <td>2017-06-01</td>\n",
       "      <td>* MICK ELECTRIC COMPANY</td>\n",
       "      <td>little</td>\n",
       "      <td>CST</td>\n",
       "      <td>Eugene</td>\n",
       "      <td>569.56</td>\n",
       "      <td>270.6263</td>\n",
       "      <td>163.6132</td>\n",
       "      <td>20.618072</td>\n",
       "      <td>7.1545</td>\n",
       "      <td>52.6867</td>\n",
       "    </tr>\n",
       "    <tr>\n",
       "      <th>4</th>\n",
       "      <td>2017-04-01</td>\n",
       "      <td>* FRANKLIN ELECTRIC COMPANY</td>\n",
       "      <td>Medium</td>\n",
       "      <td>CST</td>\n",
       "      <td>San Diego</td>\n",
       "      <td>3217.20</td>\n",
       "      <td>1629.5767</td>\n",
       "      <td>1092.8027</td>\n",
       "      <td>147.991200</td>\n",
       "      <td>-31.4172</td>\n",
       "      <td>351.9040</td>\n",
       "    </tr>\n",
       "  </tbody>\n",
       "</table>\n",
       "</div>"
      ],
      "text/plain": [
       "       Month                  Custumer Name Customer Group Product  \\\n",
       "0 2017-02-01       * SUMMIT ELECTRIC SUPPLY         Medium     CSt   \n",
       "1 2018-02-01  * SPRINGFIELD ELECTRIC SUPPLY          Large     CST   \n",
       "2 2017-06-01    * NU-LITE ELECTRICAL WHLSRS         little     CST   \n",
       "3 2017-06-01        * MICK ELECTRIC COMPANY         little     CST   \n",
       "4 2017-04-01    * FRANKLIN ELECTRIC COMPANY         Medium     CST   \n",
       "\n",
       "              City  Sales_amt  Standard_Cost  Metal_Cost       Taxes  \\\n",
       "0       Sacramento     199.44        93.0974     68.5374    9.234072   \n",
       "1         El Monte     767.00       283.5617    151.2411   25.387700   \n",
       "2   Salt Lake City     122.25        85.0163     49.3526    4.132050   \n",
       "3           Eugene     569.56       270.6263    163.6132   20.618072   \n",
       "4        San Diego    3217.20      1629.5767   1092.8027  147.991200   \n",
       "\n",
       "   FreightUnrecovered  Metal_weight_CU  \n",
       "0              4.4096          22.0704  \n",
       "1             10.4405          48.7026  \n",
       "2              6.8984          15.8925  \n",
       "3              7.1545          52.6867  \n",
       "4            -31.4172         351.9040  "
      ]
     },
     "execution_count": 7,
     "metadata": {},
     "output_type": "execute_result"
    }
   ],
   "source": [
    "df.head()"
   ]
  },
  {
   "cell_type": "markdown",
   "metadata": {},
   "source": [
    "# Find profitable Customer Group, Product\n",
    "# Find least profitable city"
   ]
  },
  {
   "cell_type": "code",
   "execution_count": 9,
   "metadata": {},
   "outputs": [
    {
     "name": "stdout",
     "output_type": "stream",
     "text": [
      "Empty DataFrame\n",
      "Columns: [Month, Custumer Name, Customer Group, Product, City, Sales_amt, Standard_Cost, Metal_Cost, Taxes, FreightUnrecovered, Metal_weight_CU]\n",
      "Index: []\n",
      "Empty DataFrame\n",
      "Columns: [Month, Custumer Name, Customer Group, Product, City, Sales_amt, Standard_Cost, Metal_Cost, Taxes, FreightUnrecovered, Metal_weight_CU]\n",
      "Index: []\n",
      "Empty DataFrame\n",
      "Columns: [Month, Custumer Name, Customer Group, Product, City, Sales_amt, Standard_Cost, Metal_Cost, Taxes, FreightUnrecovered, Metal_weight_CU]\n",
      "Index: []\n",
      "Empty DataFrame\n",
      "Columns: [Month, Custumer Name, Customer Group, Product, City, Sales_amt, Standard_Cost, Metal_Cost, Taxes, FreightUnrecovered, Metal_weight_CU]\n",
      "Index: []\n",
      "Empty DataFrame\n",
      "Columns: [Month, Custumer Name, Customer Group, Product, City, Sales_amt, Standard_Cost, Metal_Cost, Taxes, FreightUnrecovered, Metal_weight_CU]\n",
      "Index: []\n",
      "Empty DataFrame\n",
      "Columns: [Month, Custumer Name, Customer Group, Product, City, Sales_amt, Standard_Cost, Metal_Cost, Taxes, FreightUnrecovered, Metal_weight_CU]\n",
      "Index: []\n",
      "Empty DataFrame\n",
      "Columns: [Month, Custumer Name, Customer Group, Product, City, Sales_amt, Standard_Cost, Metal_Cost, Taxes, FreightUnrecovered, Metal_weight_CU]\n",
      "Index: []\n",
      "Empty DataFrame\n",
      "Columns: [Month, Custumer Name, Customer Group, Product, City, Sales_amt, Standard_Cost, Metal_Cost, Taxes, FreightUnrecovered, Metal_weight_CU]\n",
      "Index: []\n",
      "Empty DataFrame\n",
      "Columns: [Month, Custumer Name, Customer Group, Product, City, Sales_amt, Standard_Cost, Metal_Cost, Taxes, FreightUnrecovered, Metal_weight_CU]\n",
      "Index: []\n",
      "Empty DataFrame\n",
      "Columns: [Month, Custumer Name, Customer Group, Product, City, Sales_amt, Standard_Cost, Metal_Cost, Taxes, FreightUnrecovered, Metal_weight_CU]\n",
      "Index: []\n",
      "Empty DataFrame\n",
      "Columns: [Month, Custumer Name, Customer Group, Product, City, Sales_amt, Standard_Cost, Metal_Cost, Taxes, FreightUnrecovered, Metal_weight_CU]\n",
      "Index: []\n"
     ]
    }
   ],
   "source": [
    "prntMssngVlus(df)"
   ]
  },
  {
   "cell_type": "code",
   "execution_count": 10,
   "metadata": {},
   "outputs": [
    {
     "data": {
      "text/html": [
       "<div>\n",
       "<style scoped>\n",
       "    .dataframe tbody tr th:only-of-type {\n",
       "        vertical-align: middle;\n",
       "    }\n",
       "\n",
       "    .dataframe tbody tr th {\n",
       "        vertical-align: top;\n",
       "    }\n",
       "\n",
       "    .dataframe thead th {\n",
       "        text-align: right;\n",
       "    }\n",
       "</style>\n",
       "<table border=\"1\" class=\"dataframe\">\n",
       "  <thead>\n",
       "    <tr style=\"text-align: right;\">\n",
       "      <th></th>\n",
       "      <th>Month</th>\n",
       "      <th>Custumer Name</th>\n",
       "      <th>Customer Group</th>\n",
       "      <th>Product</th>\n",
       "      <th>City</th>\n",
       "      <th>Sales_amt</th>\n",
       "      <th>Standard_Cost</th>\n",
       "      <th>Metal_Cost</th>\n",
       "      <th>Taxes</th>\n",
       "      <th>FreightUnrecovered</th>\n",
       "      <th>Metal_weight_CU</th>\n",
       "    </tr>\n",
       "  </thead>\n",
       "  <tbody>\n",
       "    <tr>\n",
       "      <th>0</th>\n",
       "      <td>2017-02-01</td>\n",
       "      <td>* SUMMIT ELECTRIC SUPPLY</td>\n",
       "      <td>Medium</td>\n",
       "      <td>CSt</td>\n",
       "      <td>Sacramento</td>\n",
       "      <td>199.44</td>\n",
       "      <td>93.0974</td>\n",
       "      <td>68.5374</td>\n",
       "      <td>9.234072</td>\n",
       "      <td>4.4096</td>\n",
       "      <td>22.0704</td>\n",
       "    </tr>\n",
       "    <tr>\n",
       "      <th>1</th>\n",
       "      <td>2018-02-01</td>\n",
       "      <td>* SPRINGFIELD ELECTRIC SUPPLY</td>\n",
       "      <td>Large</td>\n",
       "      <td>CST</td>\n",
       "      <td>El Monte</td>\n",
       "      <td>767.00</td>\n",
       "      <td>283.5617</td>\n",
       "      <td>151.2411</td>\n",
       "      <td>25.387700</td>\n",
       "      <td>10.4405</td>\n",
       "      <td>48.7026</td>\n",
       "    </tr>\n",
       "    <tr>\n",
       "      <th>2</th>\n",
       "      <td>2017-06-01</td>\n",
       "      <td>* NU-LITE ELECTRICAL WHLSRS</td>\n",
       "      <td>little</td>\n",
       "      <td>CST</td>\n",
       "      <td>Salt Lake City</td>\n",
       "      <td>122.25</td>\n",
       "      <td>85.0163</td>\n",
       "      <td>49.3526</td>\n",
       "      <td>4.132050</td>\n",
       "      <td>6.8984</td>\n",
       "      <td>15.8925</td>\n",
       "    </tr>\n",
       "    <tr>\n",
       "      <th>3</th>\n",
       "      <td>2017-06-01</td>\n",
       "      <td>* MICK ELECTRIC COMPANY</td>\n",
       "      <td>little</td>\n",
       "      <td>CST</td>\n",
       "      <td>Eugene</td>\n",
       "      <td>569.56</td>\n",
       "      <td>270.6263</td>\n",
       "      <td>163.6132</td>\n",
       "      <td>20.618072</td>\n",
       "      <td>7.1545</td>\n",
       "      <td>52.6867</td>\n",
       "    </tr>\n",
       "    <tr>\n",
       "      <th>4</th>\n",
       "      <td>2017-04-01</td>\n",
       "      <td>* FRANKLIN ELECTRIC COMPANY</td>\n",
       "      <td>Medium</td>\n",
       "      <td>CST</td>\n",
       "      <td>San Diego</td>\n",
       "      <td>3217.20</td>\n",
       "      <td>1629.5767</td>\n",
       "      <td>1092.8027</td>\n",
       "      <td>147.991200</td>\n",
       "      <td>-31.4172</td>\n",
       "      <td>351.9040</td>\n",
       "    </tr>\n",
       "  </tbody>\n",
       "</table>\n",
       "</div>"
      ],
      "text/plain": [
       "       Month                  Custumer Name Customer Group Product  \\\n",
       "0 2017-02-01       * SUMMIT ELECTRIC SUPPLY         Medium     CSt   \n",
       "1 2018-02-01  * SPRINGFIELD ELECTRIC SUPPLY          Large     CST   \n",
       "2 2017-06-01    * NU-LITE ELECTRICAL WHLSRS         little     CST   \n",
       "3 2017-06-01        * MICK ELECTRIC COMPANY         little     CST   \n",
       "4 2017-04-01    * FRANKLIN ELECTRIC COMPANY         Medium     CST   \n",
       "\n",
       "              City  Sales_amt  Standard_Cost  Metal_Cost       Taxes  \\\n",
       "0       Sacramento     199.44        93.0974     68.5374    9.234072   \n",
       "1         El Monte     767.00       283.5617    151.2411   25.387700   \n",
       "2   Salt Lake City     122.25        85.0163     49.3526    4.132050   \n",
       "3           Eugene     569.56       270.6263    163.6132   20.618072   \n",
       "4        San Diego    3217.20      1629.5767   1092.8027  147.991200   \n",
       "\n",
       "   FreightUnrecovered  Metal_weight_CU  \n",
       "0              4.4096          22.0704  \n",
       "1             10.4405          48.7026  \n",
       "2              6.8984          15.8925  \n",
       "3              7.1545          52.6867  \n",
       "4            -31.4172         351.9040  "
      ]
     },
     "execution_count": 10,
     "metadata": {},
     "output_type": "execute_result"
    }
   ],
   "source": [
    "df.head()"
   ]
  },
  {
   "cell_type": "code",
   "execution_count": 11,
   "metadata": {},
   "outputs": [
    {
     "data": {
      "text/plain": [
       "CST    626\n",
       "RST    166\n",
       "MST    100\n",
       "CSt      1\n",
       "Name: Product, dtype: int64"
      ]
     },
     "execution_count": 11,
     "metadata": {},
     "output_type": "execute_result"
    }
   ],
   "source": [
    "df['Product'].value_counts()"
   ]
  },
  {
   "cell_type": "code",
   "execution_count": 14,
   "metadata": {},
   "outputs": [
    {
     "data": {
      "text/plain": [
       "[['Month', 12],\n",
       " ['Custumer Name', 180],\n",
       " ['Customer Group', 4],\n",
       " ['Product', 4],\n",
       " ['City', 191],\n",
       " ['Sales_amt', 843],\n",
       " ['Standard_Cost', 849],\n",
       " ['Metal_Cost', 809],\n",
       " ['Taxes', 892],\n",
       " ['FreightUnrecovered', 611],\n",
       " ['Metal_weight_CU', 747]]"
      ]
     },
     "execution_count": 14,
     "metadata": {},
     "output_type": "execute_result"
    }
   ],
   "source": [
    "a=[]\n",
    "b=[]\n",
    "c=[]\n",
    "unqVlusClmns(df)"
   ]
  },
  {
   "cell_type": "code",
   "execution_count": 15,
   "metadata": {},
   "outputs": [],
   "source": [
    "df.loc[df['Product']=='CSt','Product']='CST'"
   ]
  },
  {
   "cell_type": "code",
   "execution_count": 16,
   "metadata": {},
   "outputs": [
    {
     "data": {
      "text/plain": [
       "CST    627\n",
       "RST    166\n",
       "MST    100\n",
       "Name: Product, dtype: int64"
      ]
     },
     "execution_count": 16,
     "metadata": {},
     "output_type": "execute_result"
    }
   ],
   "source": [
    "df['Product'].value_counts()"
   ]
  },
  {
   "cell_type": "code",
   "execution_count": 17,
   "metadata": {},
   "outputs": [
    {
     "data": {
      "text/plain": [
       "Large     467\n",
       "Medium    288\n",
       "small     136\n",
       "little      2\n",
       "Name: Customer Group, dtype: int64"
      ]
     },
     "execution_count": 17,
     "metadata": {},
     "output_type": "execute_result"
    }
   ],
   "source": [
    "df['Customer Group'].value_counts()"
   ]
  },
  {
   "cell_type": "code",
   "execution_count": 18,
   "metadata": {},
   "outputs": [],
   "source": [
    "df.loc[df['Customer Group']=='little','Customer Group']='small'"
   ]
  },
  {
   "cell_type": "code",
   "execution_count": 19,
   "metadata": {},
   "outputs": [
    {
     "data": {
      "text/plain": [
       "Large     467\n",
       "Medium    288\n",
       "small     138\n",
       "Name: Customer Group, dtype: int64"
      ]
     },
     "execution_count": 19,
     "metadata": {},
     "output_type": "execute_result"
    }
   ],
   "source": [
    "df['Customer Group'].value_counts()"
   ]
  },
  {
   "cell_type": "code",
   "execution_count": 20,
   "metadata": {},
   "outputs": [],
   "source": [
    "df.loc[df['Customer Group']=='small','Customer Group']='Small'"
   ]
  },
  {
   "cell_type": "code",
   "execution_count": 22,
   "metadata": {},
   "outputs": [
    {
     "data": {
      "text/plain": [
       "Large     467\n",
       "Medium    288\n",
       "Small     138\n",
       "Name: Customer Group, dtype: int64"
      ]
     },
     "execution_count": 22,
     "metadata": {},
     "output_type": "execute_result"
    }
   ],
   "source": [
    "df['Customer Group'].value_counts()"
   ]
  },
  {
   "cell_type": "code",
   "execution_count": 23,
   "metadata": {},
   "outputs": [],
   "source": [
    "df['Margin']=df['Sales_amt']-df['Standard_Cost']-df['Metal_Cost']-df['Taxes']-df['FreightUnrecovered']"
   ]
  },
  {
   "cell_type": "code",
   "execution_count": 24,
   "metadata": {},
   "outputs": [
    {
     "data": {
      "text/html": [
       "<div>\n",
       "<style scoped>\n",
       "    .dataframe tbody tr th:only-of-type {\n",
       "        vertical-align: middle;\n",
       "    }\n",
       "\n",
       "    .dataframe tbody tr th {\n",
       "        vertical-align: top;\n",
       "    }\n",
       "\n",
       "    .dataframe thead th {\n",
       "        text-align: right;\n",
       "    }\n",
       "</style>\n",
       "<table border=\"1\" class=\"dataframe\">\n",
       "  <thead>\n",
       "    <tr style=\"text-align: right;\">\n",
       "      <th></th>\n",
       "      <th>Month</th>\n",
       "      <th>Custumer Name</th>\n",
       "      <th>Customer Group</th>\n",
       "      <th>Product</th>\n",
       "      <th>City</th>\n",
       "      <th>Sales_amt</th>\n",
       "      <th>Standard_Cost</th>\n",
       "      <th>Metal_Cost</th>\n",
       "      <th>Taxes</th>\n",
       "      <th>FreightUnrecovered</th>\n",
       "      <th>Metal_weight_CU</th>\n",
       "      <th>Margin</th>\n",
       "    </tr>\n",
       "  </thead>\n",
       "  <tbody>\n",
       "    <tr>\n",
       "      <th>0</th>\n",
       "      <td>2017-02-01</td>\n",
       "      <td>* SUMMIT ELECTRIC SUPPLY</td>\n",
       "      <td>Medium</td>\n",
       "      <td>CST</td>\n",
       "      <td>Sacramento</td>\n",
       "      <td>199.44</td>\n",
       "      <td>93.0974</td>\n",
       "      <td>68.5374</td>\n",
       "      <td>9.234072</td>\n",
       "      <td>4.4096</td>\n",
       "      <td>22.0704</td>\n",
       "      <td>24.161528</td>\n",
       "    </tr>\n",
       "    <tr>\n",
       "      <th>1</th>\n",
       "      <td>2018-02-01</td>\n",
       "      <td>* SPRINGFIELD ELECTRIC SUPPLY</td>\n",
       "      <td>Large</td>\n",
       "      <td>CST</td>\n",
       "      <td>El Monte</td>\n",
       "      <td>767.00</td>\n",
       "      <td>283.5617</td>\n",
       "      <td>151.2411</td>\n",
       "      <td>25.387700</td>\n",
       "      <td>10.4405</td>\n",
       "      <td>48.7026</td>\n",
       "      <td>296.369000</td>\n",
       "    </tr>\n",
       "    <tr>\n",
       "      <th>2</th>\n",
       "      <td>2017-06-01</td>\n",
       "      <td>* NU-LITE ELECTRICAL WHLSRS</td>\n",
       "      <td>Small</td>\n",
       "      <td>CST</td>\n",
       "      <td>Salt Lake City</td>\n",
       "      <td>122.25</td>\n",
       "      <td>85.0163</td>\n",
       "      <td>49.3526</td>\n",
       "      <td>4.132050</td>\n",
       "      <td>6.8984</td>\n",
       "      <td>15.8925</td>\n",
       "      <td>-23.149350</td>\n",
       "    </tr>\n",
       "    <tr>\n",
       "      <th>3</th>\n",
       "      <td>2017-06-01</td>\n",
       "      <td>* MICK ELECTRIC COMPANY</td>\n",
       "      <td>Small</td>\n",
       "      <td>CST</td>\n",
       "      <td>Eugene</td>\n",
       "      <td>569.56</td>\n",
       "      <td>270.6263</td>\n",
       "      <td>163.6132</td>\n",
       "      <td>20.618072</td>\n",
       "      <td>7.1545</td>\n",
       "      <td>52.6867</td>\n",
       "      <td>107.547928</td>\n",
       "    </tr>\n",
       "    <tr>\n",
       "      <th>4</th>\n",
       "      <td>2017-04-01</td>\n",
       "      <td>* FRANKLIN ELECTRIC COMPANY</td>\n",
       "      <td>Medium</td>\n",
       "      <td>CST</td>\n",
       "      <td>San Diego</td>\n",
       "      <td>3217.20</td>\n",
       "      <td>1629.5767</td>\n",
       "      <td>1092.8027</td>\n",
       "      <td>147.991200</td>\n",
       "      <td>-31.4172</td>\n",
       "      <td>351.9040</td>\n",
       "      <td>378.246600</td>\n",
       "    </tr>\n",
       "  </tbody>\n",
       "</table>\n",
       "</div>"
      ],
      "text/plain": [
       "       Month                  Custumer Name Customer Group Product  \\\n",
       "0 2017-02-01       * SUMMIT ELECTRIC SUPPLY         Medium     CST   \n",
       "1 2018-02-01  * SPRINGFIELD ELECTRIC SUPPLY          Large     CST   \n",
       "2 2017-06-01    * NU-LITE ELECTRICAL WHLSRS          Small     CST   \n",
       "3 2017-06-01        * MICK ELECTRIC COMPANY          Small     CST   \n",
       "4 2017-04-01    * FRANKLIN ELECTRIC COMPANY         Medium     CST   \n",
       "\n",
       "              City  Sales_amt  Standard_Cost  Metal_Cost       Taxes  \\\n",
       "0       Sacramento     199.44        93.0974     68.5374    9.234072   \n",
       "1         El Monte     767.00       283.5617    151.2411   25.387700   \n",
       "2   Salt Lake City     122.25        85.0163     49.3526    4.132050   \n",
       "3           Eugene     569.56       270.6263    163.6132   20.618072   \n",
       "4        San Diego    3217.20      1629.5767   1092.8027  147.991200   \n",
       "\n",
       "   FreightUnrecovered  Metal_weight_CU      Margin  \n",
       "0              4.4096          22.0704   24.161528  \n",
       "1             10.4405          48.7026  296.369000  \n",
       "2              6.8984          15.8925  -23.149350  \n",
       "3              7.1545          52.6867  107.547928  \n",
       "4            -31.4172         351.9040  378.246600  "
      ]
     },
     "execution_count": 24,
     "metadata": {},
     "output_type": "execute_result"
    }
   ],
   "source": [
    "df.head()"
   ]
  },
  {
   "cell_type": "code",
   "execution_count": 27,
   "metadata": {},
   "outputs": [
    {
     "data": {
      "text/plain": [
       "City\n",
       " Abilene        3650.375603\n",
       " Akron           218.204530\n",
       " Albuquerque     257.877642\n",
       " Alexandria     9236.634858\n",
       " Amarillo         33.132870\n",
       "Name: Margin, dtype: float64"
      ]
     },
     "execution_count": 27,
     "metadata": {},
     "output_type": "execute_result"
    }
   ],
   "source": [
    "df.groupby(['City'])['Margin'].sum().head()"
   ]
  },
  {
   "cell_type": "code",
   "execution_count": 28,
   "metadata": {},
   "outputs": [
    {
     "data": {
      "text/plain": [
       "City\n",
       " Washington       6405.881370\n",
       " Wichita           778.866168\n",
       " Winston-Salem     199.278840\n",
       " Worcester         868.709080\n",
       " Yonkers          2242.218362\n",
       "Name: Margin, dtype: float64"
      ]
     },
     "execution_count": 28,
     "metadata": {},
     "output_type": "execute_result"
    }
   ],
   "source": [
    "df.groupby(['City'])['Margin'].sum().tail()"
   ]
  },
  {
   "cell_type": "code",
   "execution_count": 29,
   "metadata": {},
   "outputs": [],
   "source": [
    "def gtTpVlus(df,measure,column,top):\n",
    "    return df[measure].groupby(df[column]).sum().nlargest(top)\n",
    "def gtBtVlus(df,measure,column,top):\n",
    "    return df[measure].groupby(df[column]).sum().nsmallest(top)\n"
   ]
  },
  {
   "cell_type": "code",
   "execution_count": 32,
   "metadata": {},
   "outputs": [
    {
     "data": {
      "text/plain": [
       "City\n",
       " Colorado Springs    42818.517164\n",
       "Name: Margin, dtype: float64"
      ]
     },
     "execution_count": 32,
     "metadata": {},
     "output_type": "execute_result"
    }
   ],
   "source": [
    "measure='Margin'\n",
    "column='City'\n",
    "gtTpVlus(df,measure,column,1)"
   ]
  },
  {
   "cell_type": "code",
   "execution_count": 33,
   "metadata": {},
   "outputs": [
    {
     "data": {
      "text/plain": [
       "City\n",
       " Eugene   -43396.349708\n",
       "Name: Margin, dtype: float64"
      ]
     },
     "execution_count": 33,
     "metadata": {},
     "output_type": "execute_result"
    }
   ],
   "source": [
    "gtBtVlus(df,measure,column,1)"
   ]
  },
  {
   "cell_type": "code",
   "execution_count": 34,
   "metadata": {},
   "outputs": [
    {
     "data": {
      "text/plain": [
       "Customer Group\n",
       "Large    210530.877861\n",
       "Name: Margin, dtype: float64"
      ]
     },
     "execution_count": 34,
     "metadata": {},
     "output_type": "execute_result"
    }
   ],
   "source": [
    "measure='Margin'\n",
    "column='Customer Group'\n",
    "gtTpVlus(df,measure,column,1)"
   ]
  },
  {
   "cell_type": "code",
   "execution_count": 35,
   "metadata": {},
   "outputs": [
    {
     "data": {
      "text/plain": [
       "Product\n",
       "RST    116169.407139\n",
       "Name: Margin, dtype: float64"
      ]
     },
     "execution_count": 35,
     "metadata": {},
     "output_type": "execute_result"
    }
   ],
   "source": [
    "measure='Margin'\n",
    "column='Product'\n",
    "gtTpVlus(df,measure,column,1)"
   ]
  },
  {
   "cell_type": "code",
   "execution_count": 36,
   "metadata": {},
   "outputs": [
    {
     "data": {
      "text/plain": [
       "City\n",
       " Eugene   -43396.349708\n",
       "Name: Margin, dtype: float64"
      ]
     },
     "execution_count": 36,
     "metadata": {},
     "output_type": "execute_result"
    }
   ],
   "source": [
    "measure='Margin'\n",
    "column='City'\n",
    "gtBtVlus(df,measure,column,1)"
   ]
  },
  {
   "cell_type": "code",
   "execution_count": null,
   "metadata": {},
   "outputs": [],
   "source": []
  }
 ],
 "metadata": {
  "kernelspec": {
   "display_name": "Python 3",
   "language": "python",
   "name": "python3"
  },
  "language_info": {
   "codemirror_mode": {
    "name": "ipython",
    "version": 3
   },
   "file_extension": ".py",
   "mimetype": "text/x-python",
   "name": "python",
   "nbconvert_exporter": "python",
   "pygments_lexer": "ipython3",
   "version": "3.7.1"
  }
 },
 "nbformat": 4,
 "nbformat_minor": 2
}
